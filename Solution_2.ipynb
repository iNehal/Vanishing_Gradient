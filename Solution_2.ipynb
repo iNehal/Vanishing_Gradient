{
  "nbformat": 4,
  "nbformat_minor": 0,
  "metadata": {
    "colab": {
      "provenance": [],
      "gpuType": "T4"
    },
    "kernelspec": {
      "name": "python3",
      "display_name": "Python 3"
    },
    "language_info": {
      "name": "python"
    },
    "accelerator": "GPU"
  },
  "cells": [
    {
      "cell_type": "markdown",
      "source": [
        "##Usng RELU\n"
      ],
      "metadata": {
        "id": "kbpg_PkNjKV_"
      }
    },
    {
      "cell_type": "code",
      "execution_count": null,
      "metadata": {
        "id": "_6RB_S6KoiMn"
      },
      "outputs": [],
      "source": [
        "import tensorflow as tf\n",
        "import keras\n",
        "from keras.layers import Dense\n",
        "from keras.models import Sequential\n",
        "import matplotlib.pyplot as plt\n",
        "import numpy as np\n",
        "from sklearn.datasets import make_moons\n",
        "from sklearn.model_selection import train_test_split"
      ]
    },
    {
      "cell_type": "code",
      "source": [
        "X,y=make_moons(n_samples=250,noise=0.05,random_state=42)"
      ],
      "metadata": {
        "id": "AweftQpwpiRs"
      },
      "execution_count": null,
      "outputs": []
    },
    {
      "cell_type": "code",
      "source": [
        "X.shape"
      ],
      "metadata": {
        "colab": {
          "base_uri": "https://localhost:8080/"
        },
        "id": "8_WKuA54p0m0",
        "outputId": "0fce0e0b-8f2d-4b7c-a164-a1f7d6822d3a"
      },
      "execution_count": null,
      "outputs": [
        {
          "output_type": "execute_result",
          "data": {
            "text/plain": [
              "(250, 2)"
            ]
          },
          "metadata": {},
          "execution_count": 3
        }
      ]
    },
    {
      "cell_type": "code",
      "source": [
        "y"
      ],
      "metadata": {
        "colab": {
          "base_uri": "https://localhost:8080/"
        },
        "id": "EGMqatgnp1lV",
        "outputId": "2c372e20-315a-4776-e3c4-f87b7b67edd4"
      },
      "execution_count": null,
      "outputs": [
        {
          "output_type": "execute_result",
          "data": {
            "text/plain": [
              "array([1, 0, 0, 0, 0, 1, 1, 1, 0, 0, 1, 1, 1, 1, 0, 1, 1, 0, 1, 0, 1, 0,\n",
              "       0, 0, 1, 0, 0, 0, 0, 0, 1, 0, 1, 1, 0, 0, 0, 1, 1, 1, 0, 0, 0, 1,\n",
              "       1, 0, 1, 0, 1, 0, 1, 1, 1, 0, 1, 0, 1, 1, 1, 1, 1, 1, 0, 0, 1, 1,\n",
              "       1, 0, 1, 1, 0, 1, 0, 0, 1, 0, 0, 1, 0, 0, 0, 0, 1, 1, 1, 0, 1, 0,\n",
              "       1, 1, 0, 0, 0, 0, 0, 1, 0, 0, 1, 0, 0, 0, 1, 1, 0, 0, 0, 1, 0, 1,\n",
              "       0, 1, 1, 1, 1, 0, 0, 0, 0, 0, 1, 1, 1, 0, 0, 1, 1, 0, 0, 0, 1, 1,\n",
              "       0, 1, 1, 0, 1, 0, 0, 0, 1, 1, 1, 0, 1, 1, 1, 1, 0, 1, 0, 0, 1, 0,\n",
              "       0, 1, 0, 1, 1, 0, 0, 1, 0, 0, 1, 1, 0, 1, 1, 0, 0, 0, 1, 1, 1, 1,\n",
              "       0, 1, 0, 0, 1, 0, 1, 0, 0, 0, 1, 1, 0, 0, 0, 0, 1, 1, 0, 1, 0, 1,\n",
              "       1, 1, 1, 0, 0, 0, 0, 1, 1, 1, 1, 1, 1, 1, 1, 0, 0, 0, 0, 0, 1, 1,\n",
              "       1, 1, 1, 1, 0, 1, 1, 0, 0, 1, 1, 1, 0, 0, 0, 0, 1, 0, 1, 1, 0, 1,\n",
              "       0, 1, 0, 0, 0, 0, 1, 0])"
            ]
          },
          "metadata": {},
          "execution_count": 4
        }
      ]
    },
    {
      "cell_type": "code",
      "source": [
        "y.shape"
      ],
      "metadata": {
        "colab": {
          "base_uri": "https://localhost:8080/"
        },
        "id": "dFiSfzc2p3b1",
        "outputId": "166fdd8c-bda4-4ed9-f029-0d6425ab0d08"
      },
      "execution_count": null,
      "outputs": [
        {
          "output_type": "execute_result",
          "data": {
            "text/plain": [
              "(250,)"
            ]
          },
          "metadata": {},
          "execution_count": 5
        }
      ]
    },
    {
      "cell_type": "code",
      "source": [
        "plt.scatter(X[:,0],X[:,1], c=y, s=100)\n",
        "plt.show()"
      ],
      "metadata": {
        "colab": {
          "base_uri": "https://localhost:8080/",
          "height": 430
        },
        "id": "ecz_ahOop_H3",
        "outputId": "bee7908f-8f08-449e-90b4-6d7f6ed48759"
      },
      "execution_count": null,
      "outputs": [
        {
          "output_type": "display_data",
          "data": {
            "text/plain": [
              "<Figure size 640x480 with 1 Axes>"
            ],
            "image/png": "[encoded data removed]"
          },
          "metadata": {}
        }
      ]
    },
    {
      "cell_type": "code",
      "source": [
        "model=Sequential()\n",
        "\n",
        "model.add(Dense(10,activation='relu',input_dim=2))\n",
        "model.add(Dense(10,activation='relu')) #relu - ye data me se negative value remove kr deta h\n",
        "model.add(Dense(10,activation='relu'))\n",
        "model.add(Dense(10,activation='relu')) #vanishing GD se bachne k liye sbko relu kia, sigmoid k jagah pe\n",
        "model.add(Dense(10,activation='relu'))\n",
        "model.add(Dense(10,activation='relu'))\n",
        "model.add(Dense(10,activation='relu'))\n",
        "model.add(Dense(10,activation='relu'))\n",
        "model.add(Dense(10,activation='relu'))\n",
        "model.add(Dense(10,activation='relu'))\n",
        "model.add(Dense(1,activation='sigmoid')) # isme sigmoid h qki hmlog classification data prblm solve kr rhe h"
      ],
      "metadata": {
        "id": "0nvzMR4rqx9G"
      },
      "execution_count": null,
      "outputs": []
    },
    {
      "cell_type": "code",
      "source": [
        "model.compile(loss='binary_crossentropy',optimizer='adam',metrics=['accuracy'])"
      ],
      "metadata": {
        "id": "Se1RjsIVsJ8B"
      },
      "execution_count": null,
      "outputs": []
    },
    {
      "cell_type": "code",
      "source": [
        "model.get_weights()[0]"
      ],
      "metadata": {
        "colab": {
          "base_uri": "https://localhost:8080/"
        },
        "id": "w_yNeTlesb1P",
        "outputId": "ed433419-dfbb-476e-ed80-f89dbcff15ba"
      },
      "execution_count": null,
      "outputs": [
        {
          "output_type": "execute_result",
          "data": {
            "text/plain": [
              "array([[ 0.46694762, -0.5919803 , -0.51090646, -0.58936924, -0.2996489 ,\n",
              "        -0.6310953 ,  0.17496657,  0.57252043, -0.30640724, -0.31499407],\n",
              "       [-0.13624442,  0.516324  ,  0.03842711,  0.6309511 ,  0.38280588,\n",
              "         0.42084736,  0.25716758, -0.42138875,  0.5338988 ,  0.51238936]],\n",
              "      dtype=float32)"
            ]
          },
          "metadata": {},
          "execution_count": 10
        }
      ]
    },
    {
      "cell_type": "code",
      "source": [
        "old_weights = model.get_weights()[0]"
      ],
      "metadata": {
        "id": "jzBGApAjszZF"
      },
      "execution_count": null,
      "outputs": []
    },
    {
      "cell_type": "code",
      "source": [
        "model.summary()"
      ],
      "metadata": {
        "colab": {
          "base_uri": "https://localhost:8080/"
        },
        "id": "GrZ_f2AYsh5O",
        "outputId": "c238000d-84fc-4090-f8ce-eba522de2590"
      },
      "execution_count": null,
      "outputs": [
        {
          "output_type": "stream",
          "name": "stdout",
          "text": [
            "Model: \"sequential_1\"\n",
            "_________________________________________________________________\n",
            " Layer (type)                Output Shape              Param #   \n",
            "=================================================================\n",
            " dense_11 (Dense)            (None, 10)                30        \n",
            "                                                                 \n",
            " dense_12 (Dense)            (None, 10)                110       \n",
            "                                                                 \n",
            " dense_13 (Dense)            (None, 10)                110       \n",
            "                                                                 \n",
            " dense_14 (Dense)            (None, 10)                110       \n",
            "                                                                 \n",
            " dense_15 (Dense)            (None, 10)                110       \n",
            "                                                                 \n",
            " dense_16 (Dense)            (None, 10)                110       \n",
            "                                                                 \n",
            " dense_17 (Dense)            (None, 10)                110       \n",
            "                                                                 \n",
            " dense_18 (Dense)            (None, 10)                110       \n",
            "                                                                 \n",
            " dense_19 (Dense)            (None, 10)                110       \n",
            "                                                                 \n",
            " dense_20 (Dense)            (None, 10)                110       \n",
            "                                                                 \n",
            " dense_21 (Dense)            (None, 1)                 11        \n",
            "                                                                 \n",
            "=================================================================\n",
            "Total params: 1031 (4.03 KB)\n",
            "Trainable params: 1031 (4.03 KB)\n",
            "Non-trainable params: 0 (0.00 Byte)\n",
            "_________________________________________________________________\n"
          ]
        }
      ]
    },
    {
      "cell_type": "code",
      "source": [
        "X_train,X_test,y_train,y_test=train_test_split(X,y,test_size=0.20,random_state=42)"
      ],
      "metadata": {
        "id": "UJyFBdLdsms0"
      },
      "execution_count": null,
      "outputs": []
    },
    {
      "cell_type": "code",
      "source": [
        "model.fit(X_train,y_train,epochs=100)"
      ],
      "metadata": {
        "colab": {
          "base_uri": "https://localhost:8080/"
        },
        "id": "1idm5esrtUTy",
        "outputId": "d1b68d73-8b46-48ea-e1d9-9ec75419218f"
      },
      "execution_count": null,
      "outputs": [
        {
          "output_type": "stream",
          "name": "stdout",
          "text": [
            "Epoch 1/100\n",
            "7/7 [==============================] - 9s 7ms/step - loss: 0.6929 - accuracy: 0.6000\n",
            "Epoch 2/100\n",
            "7/7 [==============================] - 0s 5ms/step - loss: 0.6919 - accuracy: 0.7300\n",
            "Epoch 3/100\n",
            "7/7 [==============================] - 0s 5ms/step - loss: 0.6905 - accuracy: 0.7600\n",
            "Epoch 4/100\n",
            "7/7 [==============================] - 0s 6ms/step - loss: 0.6889 - accuracy: 0.7800\n",
            "Epoch 5/100\n",
            "7/7 [==============================] - 0s 5ms/step - loss: 0.6870 - accuracy: 0.8050\n",
            "Epoch 6/100\n",
            "7/7 [==============================] - 0s 6ms/step - loss: 0.6845 - accuracy: 0.8000\n",
            "Epoch 7/100\n",
            "7/7 [==============================] - 0s 5ms/step - loss: 0.6814 - accuracy: 0.8150\n",
            "Epoch 8/100\n",
            "7/7 [==============================] - 0s 5ms/step - loss: 0.6775 - accuracy: 0.8200\n",
            "Epoch 9/100\n",
            "7/7 [==============================] - 0s 6ms/step - loss: 0.6722 - accuracy: 0.8200\n",
            "Epoch 10/100\n",
            "7/7 [==============================] - 0s 5ms/step - loss: 0.6648 - accuracy: 0.8250\n",
            "Epoch 11/100\n",
            "7/7 [==============================] - 0s 5ms/step - loss: 0.6543 - accuracy: 0.8250\n",
            "Epoch 12/100\n",
            "7/7 [==============================] - 0s 5ms/step - loss: 0.6409 - accuracy: 0.8250\n",
            "Epoch 13/100\n",
            "7/7 [==============================] - 0s 5ms/step - loss: 0.6233 - accuracy: 0.8350\n",
            "Epoch 14/100\n",
            "7/7 [==============================] - 0s 5ms/step - loss: 0.5997 - accuracy: 0.8350\n",
            "Epoch 15/100\n",
            "7/7 [==============================] - 0s 5ms/step - loss: 0.5722 - accuracy: 0.8500\n",
            "Epoch 16/100\n",
            "7/7 [==============================] - 0s 6ms/step - loss: 0.5449 - accuracy: 0.8600\n",
            "Epoch 17/100\n",
            "7/7 [==============================] - 0s 5ms/step - loss: 0.5245 - accuracy: 0.8650\n",
            "Epoch 18/100\n",
            "7/7 [==============================] - 0s 5ms/step - loss: 0.5068 - accuracy: 0.8800\n",
            "Epoch 19/100\n",
            "7/7 [==============================] - 0s 5ms/step - loss: 0.4926 - accuracy: 0.8900\n",
            "Epoch 20/100\n",
            "7/7 [==============================] - 0s 5ms/step - loss: 0.4774 - accuracy: 0.9100\n",
            "Epoch 21/100\n",
            "7/7 [==============================] - 0s 5ms/step - loss: 0.4612 - accuracy: 0.9150\n",
            "Epoch 22/100\n",
            "7/7 [==============================] - 0s 6ms/step - loss: 0.4447 - accuracy: 0.9300\n",
            "Epoch 23/100\n",
            "7/7 [==============================] - 0s 6ms/step - loss: 0.4279 - accuracy: 0.9300\n",
            "Epoch 24/100\n",
            "7/7 [==============================] - 0s 6ms/step - loss: 0.4087 - accuracy: 0.9300\n",
            "Epoch 25/100\n",
            "7/7 [==============================] - 0s 5ms/step - loss: 0.3930 - accuracy: 0.9400\n",
            "Epoch 26/100\n",
            "7/7 [==============================] - 0s 5ms/step - loss: 0.3768 - accuracy: 0.9500\n",
            "Epoch 27/100\n",
            "7/7 [==============================] - 0s 6ms/step - loss: 0.3595 - accuracy: 0.9550\n",
            "Epoch 28/100\n",
            "7/7 [==============================] - 0s 5ms/step - loss: 0.3457 - accuracy: 0.9500\n",
            "Epoch 29/100\n",
            "7/7 [==============================] - 0s 5ms/step - loss: 0.3364 - accuracy: 0.9500\n",
            "Epoch 30/100\n",
            "7/7 [==============================] - 0s 6ms/step - loss: 0.3247 - accuracy: 0.9550\n",
            "Epoch 31/100\n",
            "7/7 [==============================] - 0s 6ms/step - loss: 0.3138 - accuracy: 0.9550\n",
            "Epoch 32/100\n",
            "7/7 [==============================] - 0s 6ms/step - loss: 0.3047 - accuracy: 0.9500\n",
            "Epoch 33/100\n",
            "7/7 [==============================] - 0s 5ms/step - loss: 0.2926 - accuracy: 0.9500\n",
            "Epoch 34/100\n",
            "7/7 [==============================] - 0s 5ms/step - loss: 0.2825 - accuracy: 0.9500\n",
            "Epoch 35/100\n",
            "7/7 [==============================] - 0s 5ms/step - loss: 0.2737 - accuracy: 0.9450\n",
            "Epoch 36/100\n",
            "7/7 [==============================] - 0s 5ms/step - loss: 0.2629 - accuracy: 0.9550\n",
            "Epoch 37/100\n",
            "7/7 [==============================] - 0s 5ms/step - loss: 0.2544 - accuracy: 0.9600\n",
            "Epoch 38/100\n",
            "7/7 [==============================] - 0s 6ms/step - loss: 0.2460 - accuracy: 0.9600\n",
            "Epoch 39/100\n",
            "7/7 [==============================] - 0s 5ms/step - loss: 0.2343 - accuracy: 0.9600\n",
            "Epoch 40/100\n",
            "7/7 [==============================] - 0s 5ms/step - loss: 0.2262 - accuracy: 0.9600\n",
            "Epoch 41/100\n",
            "7/7 [==============================] - 0s 5ms/step - loss: 0.2177 - accuracy: 0.9600\n",
            "Epoch 42/100\n",
            "7/7 [==============================] - 0s 6ms/step - loss: 0.2093 - accuracy: 0.9650\n",
            "Epoch 43/100\n",
            "7/7 [==============================] - 0s 5ms/step - loss: 0.2069 - accuracy: 0.9600\n",
            "Epoch 44/100\n",
            "7/7 [==============================] - 0s 5ms/step - loss: 0.1942 - accuracy: 0.9650\n",
            "Epoch 45/100\n",
            "7/7 [==============================] - 0s 7ms/step - loss: 0.1874 - accuracy: 0.9650\n",
            "Epoch 46/100\n",
            "7/7 [==============================] - 0s 5ms/step - loss: 0.1788 - accuracy: 0.9700\n",
            "Epoch 47/100\n",
            "7/7 [==============================] - 0s 5ms/step - loss: 0.1736 - accuracy: 0.9700\n",
            "Epoch 48/100\n",
            "7/7 [==============================] - 0s 5ms/step - loss: 0.1651 - accuracy: 0.9700\n",
            "Epoch 49/100\n",
            "7/7 [==============================] - 0s 5ms/step - loss: 0.1553 - accuracy: 0.9750\n",
            "Epoch 50/100\n",
            "7/7 [==============================] - 0s 5ms/step - loss: 0.1497 - accuracy: 0.9750\n",
            "Epoch 51/100\n",
            "7/7 [==============================] - 0s 6ms/step - loss: 0.1447 - accuracy: 0.9750\n",
            "Epoch 52/100\n",
            "7/7 [==============================] - 0s 6ms/step - loss: 0.1365 - accuracy: 0.9800\n",
            "Epoch 53/100\n",
            "7/7 [==============================] - 0s 6ms/step - loss: 0.1307 - accuracy: 0.9850\n",
            "Epoch 54/100\n",
            "7/7 [==============================] - 0s 5ms/step - loss: 0.1253 - accuracy: 0.9850\n",
            "Epoch 55/100\n",
            "7/7 [==============================] - 0s 5ms/step - loss: 0.1199 - accuracy: 0.9800\n",
            "Epoch 56/100\n",
            "7/7 [==============================] - 0s 5ms/step - loss: 0.1155 - accuracy: 0.9850\n",
            "Epoch 57/100\n",
            "7/7 [==============================] - 0s 5ms/step - loss: 0.1095 - accuracy: 0.9850\n",
            "Epoch 58/100\n",
            "7/7 [==============================] - 0s 6ms/step - loss: 0.1052 - accuracy: 0.9850\n",
            "Epoch 59/100\n",
            "7/7 [==============================] - 0s 6ms/step - loss: 0.1008 - accuracy: 0.9950\n",
            "Epoch 60/100\n",
            "7/7 [==============================] - 0s 5ms/step - loss: 0.0960 - accuracy: 0.9900\n",
            "Epoch 61/100\n",
            "7/7 [==============================] - 0s 5ms/step - loss: 0.0921 - accuracy: 0.9950\n",
            "Epoch 62/100\n",
            "7/7 [==============================] - 0s 6ms/step - loss: 0.0879 - accuracy: 1.0000\n",
            "Epoch 63/100\n",
            "7/7 [==============================] - 0s 5ms/step - loss: 0.0845 - accuracy: 1.0000\n",
            "Epoch 64/100\n",
            "7/7 [==============================] - 0s 6ms/step - loss: 0.0798 - accuracy: 1.0000\n",
            "Epoch 65/100\n",
            "7/7 [==============================] - 0s 6ms/step - loss: 0.0758 - accuracy: 1.0000\n",
            "Epoch 66/100\n",
            "7/7 [==============================] - 0s 7ms/step - loss: 0.0716 - accuracy: 1.0000\n",
            "Epoch 67/100\n",
            "7/7 [==============================] - 0s 5ms/step - loss: 0.0683 - accuracy: 1.0000\n",
            "Epoch 68/100\n",
            "7/7 [==============================] - 0s 5ms/step - loss: 0.0649 - accuracy: 1.0000\n",
            "Epoch 69/100\n",
            "7/7 [==============================] - 0s 5ms/step - loss: 0.0622 - accuracy: 1.0000\n",
            "Epoch 70/100\n",
            "7/7 [==============================] - 0s 5ms/step - loss: 0.0597 - accuracy: 1.0000\n",
            "Epoch 71/100\n",
            "7/7 [==============================] - 0s 5ms/step - loss: 0.0581 - accuracy: 1.0000\n",
            "Epoch 72/100\n",
            "7/7 [==============================] - 0s 5ms/step - loss: 0.0552 - accuracy: 1.0000\n",
            "Epoch 73/100\n",
            "7/7 [==============================] - 0s 6ms/step - loss: 0.0530 - accuracy: 1.0000\n",
            "Epoch 74/100\n",
            "7/7 [==============================] - 0s 6ms/step - loss: 0.0514 - accuracy: 1.0000\n",
            "Epoch 75/100\n",
            "7/7 [==============================] - 0s 6ms/step - loss: 0.0497 - accuracy: 1.0000\n",
            "Epoch 76/100\n",
            "7/7 [==============================] - 0s 6ms/step - loss: 0.0482 - accuracy: 1.0000\n",
            "Epoch 77/100\n",
            "7/7 [==============================] - 0s 5ms/step - loss: 0.0466 - accuracy: 1.0000\n",
            "Epoch 78/100\n",
            "7/7 [==============================] - 0s 5ms/step - loss: 0.0451 - accuracy: 1.0000\n",
            "Epoch 79/100\n",
            "7/7 [==============================] - 0s 5ms/step - loss: 0.0438 - accuracy: 1.0000\n",
            "Epoch 80/100\n",
            "7/7 [==============================] - 0s 6ms/step - loss: 0.0425 - accuracy: 1.0000\n",
            "Epoch 81/100\n",
            "7/7 [==============================] - 0s 6ms/step - loss: 0.0412 - accuracy: 1.0000\n",
            "Epoch 82/100\n",
            "7/7 [==============================] - 0s 6ms/step - loss: 0.0403 - accuracy: 1.0000\n",
            "Epoch 83/100\n",
            "7/7 [==============================] - 0s 6ms/step - loss: 0.0391 - accuracy: 1.0000\n",
            "Epoch 84/100\n",
            "7/7 [==============================] - 0s 6ms/step - loss: 0.0383 - accuracy: 1.0000\n",
            "Epoch 85/100\n",
            "7/7 [==============================] - 0s 6ms/step - loss: 0.0369 - accuracy: 1.0000\n",
            "Epoch 86/100\n",
            "7/7 [==============================] - 0s 6ms/step - loss: 0.0360 - accuracy: 1.0000\n",
            "Epoch 87/100\n",
            "7/7 [==============================] - 0s 6ms/step - loss: 0.0350 - accuracy: 1.0000\n",
            "Epoch 88/100\n",
            "7/7 [==============================] - 0s 10ms/step - loss: 0.0340 - accuracy: 1.0000\n",
            "Epoch 89/100\n",
            "7/7 [==============================] - 0s 8ms/step - loss: 0.0331 - accuracy: 1.0000\n",
            "Epoch 90/100\n",
            "7/7 [==============================] - 0s 8ms/step - loss: 0.0321 - accuracy: 1.0000\n",
            "Epoch 91/100\n",
            "7/7 [==============================] - 0s 8ms/step - loss: 0.0313 - accuracy: 1.0000\n",
            "Epoch 92/100\n",
            "7/7 [==============================] - 0s 8ms/step - loss: 0.0305 - accuracy: 1.0000\n",
            "Epoch 93/100\n",
            "7/7 [==============================] - 0s 7ms/step - loss: 0.0297 - accuracy: 1.0000\n",
            "Epoch 94/100\n",
            "7/7 [==============================] - 0s 7ms/step - loss: 0.0290 - accuracy: 1.0000\n",
            "Epoch 95/100\n",
            "7/7 [==============================] - 0s 7ms/step - loss: 0.0282 - accuracy: 1.0000\n",
            "Epoch 96/100\n",
            "7/7 [==============================] - 0s 7ms/step - loss: 0.0275 - accuracy: 1.0000\n",
            "Epoch 97/100\n",
            "7/7 [==============================] - 0s 8ms/step - loss: 0.0268 - accuracy: 1.0000\n",
            "Epoch 98/100\n",
            "7/7 [==============================] - 0s 8ms/step - loss: 0.0262 - accuracy: 1.0000\n",
            "Epoch 99/100\n",
            "7/7 [==============================] - 0s 7ms/step - loss: 0.0256 - accuracy: 1.0000\n",
            "Epoch 100/100\n",
            "7/7 [==============================] - 0s 8ms/step - loss: 0.0250 - accuracy: 1.0000\n"
          ]
        },
        {
          "output_type": "execute_result",
          "data": {
            "text/plain": [
              "<keras.src.callbacks.History at 0x7cc5301da470>"
            ]
          },
          "metadata": {},
          "execution_count": 14
        }
      ]
    },
    {
      "cell_type": "code",
      "source": [
        "new_weights = model.get_weights()[0]"
      ],
      "metadata": {
        "id": "yDcykSHUtgTV"
      },
      "execution_count": null,
      "outputs": []
    },
    {
      "cell_type": "code",
      "source": [
        "old_weights"
      ],
      "metadata": {
        "colab": {
          "base_uri": "https://localhost:8080/"
        },
        "id": "G9f-YyZRuCHO",
        "outputId": "a16844c9-e185-4211-d162-86ea01412973"
      },
      "execution_count": null,
      "outputs": [
        {
          "output_type": "execute_result",
          "data": {
            "text/plain": [
              "array([[ 0.46694762, -0.5919803 , -0.51090646, -0.58936924, -0.2996489 ,\n",
              "        -0.6310953 ,  0.17496657,  0.57252043, -0.30640724, -0.31499407],\n",
              "       [-0.13624442,  0.516324  ,  0.03842711,  0.6309511 ,  0.38280588,\n",
              "         0.42084736,  0.25716758, -0.42138875,  0.5338988 ,  0.51238936]],\n",
              "      dtype=float32)"
            ]
          },
          "metadata": {},
          "execution_count": 16
        }
      ]
    },
    {
      "cell_type": "code",
      "source": [
        "new_weights"
      ],
      "metadata": {
        "colab": {
          "base_uri": "https://localhost:8080/"
        },
        "id": "qqqIpinWuJkf",
        "outputId": "f3e7ffbe-5c96-49e3-bf5d-cd3b03d375ac"
      },
      "execution_count": null,
      "outputs": [
        {
          "output_type": "execute_result",
          "data": {
            "text/plain": [
              "array([[ 0.6583721 , -0.6726628 , -0.37373912, -0.45779446, -0.25802022,\n",
              "        -0.72878075,  0.37743396,  0.6604466 , -0.1525487 , -0.1610723 ],\n",
              "       [-0.17072943,  0.5192995 ,  0.09585115,  0.64585286,  0.48356736,\n",
              "         0.35279956,  0.3071687 , -0.516585  ,  0.5538168 ,  0.5265763 ]],\n",
              "      dtype=float32)"
            ]
          },
          "metadata": {},
          "execution_count": 17
        }
      ]
    },
    {
      "cell_type": "code",
      "source": [
        "percentage_change= abs(100*(old_weights-new_weights)/old_weights)"
      ],
      "metadata": {
        "id": "VUWLmqxRuMav"
      },
      "execution_count": null,
      "outputs": []
    },
    {
      "cell_type": "code",
      "source": [
        "percentage_change"
      ],
      "metadata": {
        "colab": {
          "base_uri": "https://localhost:8080/"
        },
        "id": "pv7dfjqtuowv",
        "outputId": "43d22d34-5d0b-44d0-d7c8-cd88b0a9ca32"
      },
      "execution_count": null,
      "outputs": [
        {
          "output_type": "execute_result",
          "data": {
            "text/plain": [
              "array([[ 40.994854 ,  13.629257 ,  26.847837 ,  22.324678 ,  13.8924885,\n",
              "         15.478717 , 115.71775  ,  15.357731 ,  50.213745 ,  48.864975 ],\n",
              "       [ 25.311136 ,   0.57629  , 149.43623  ,   2.3617928,  26.32182  ,\n",
              "         16.169233 ,  19.443008 ,  22.591074 ,   3.7306743,   2.768777 ]],\n",
              "      dtype=float32)"
            ]
          },
          "metadata": {},
          "execution_count": 19
        }
      ]
    },
    {
      "cell_type": "code",
      "source": [
        "from mlxtend.plotting import plot_decision_regions\n",
        "\n",
        "plot_decision_regions(X_train,y_train.astype('int'),clf=model,legend=2)"
      ],
      "metadata": {
        "colab": {
          "base_uri": "https://localhost:8080/",
          "height": 466
        },
        "id": "hb49A3bqurkf",
        "outputId": "0f666c03-adf2-4be0-dbff-4fd3bed59e1c"
      },
      "execution_count": null,
      "outputs": [
        {
          "output_type": "stream",
          "name": "stdout",
          "text": [
            "9600/9600 [==============================] - 18s 2ms/step\n"
          ]
        },
        {
          "output_type": "execute_result",
          "data": {
            "text/plain": [
              "<Axes: >"
            ]
          },
          "metadata": {},
          "execution_count": 20
        },
        {
          "output_type": "display_data",
          "data": {
            "text/plain": [
              "<Figure size 640x480 with 1 Axes>"
            ],
            "image/png": "[encoded data removed]"
          },
          "metadata": {}
        }
      ]
    },
    {
      "cell_type": "code",
      "source": [],
      "metadata": {
        "id": "4JfLmr-yv4Sa"
      },
      "execution_count": null,
      "outputs": []
    }
  ]
}