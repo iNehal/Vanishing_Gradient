{
  "nbformat": 4,
  "nbformat_minor": 0,
  "metadata": {
    "colab": {
      "provenance": [],
      "gpuType": "T4"
    },
    "kernelspec": {
      "name": "python3",
      "display_name": "Python 3"
    },
    "language_info": {
      "name": "python"
    },
    "accelerator": "GPU"
  },
  "cells": [
    {
      "cell_type": "markdown",
      "source": [
        "##Using weight initialization\n",
        "\n"
      ],
      "metadata": {
        "id": "kbpg_PkNjKV_"
      }
    },
    {
      "cell_type": "code",
      "execution_count": null,
      "metadata": {
        "id": "_6RB_S6KoiMn"
      },
      "outputs": [],
      "source": [
        "import tensorflow as tf\n",
        "import keras\n",
        "from keras.layers import Dense\n",
        "from keras.models import Sequential\n",
        "import matplotlib.pyplot as plt\n",
        "import numpy as np\n",
        "from sklearn.datasets import make_moons\n",
        "from sklearn.model_selection import train_test_split"
      ]
    },
    {
      "cell_type": "code",
      "source": [
        "X,y=make_moons(n_samples=250,noise=0.05,random_state=42)"
      ],
      "metadata": {
        "id": "AweftQpwpiRs"
      },
      "execution_count": null,
      "outputs": []
    },
    {
      "cell_type": "code",
      "source": [
        "X.shape"
      ],
      "metadata": {
        "colab": {
          "base_uri": "https://localhost:8080/"
        },
        "id": "8_WKuA54p0m0",
        "outputId": "7db0175d-2f07-4596-c0e6-f055e5e352f2"
      },
      "execution_count": null,
      "outputs": [
        {
          "output_type": "execute_result",
          "data": {
            "text/plain": [
              "(250, 2)"
            ]
          },
          "metadata": {},
          "execution_count": 3
        }
      ]
    },
    {
      "cell_type": "code",
      "source": [
        "y"
      ],
      "metadata": {
        "colab": {
          "base_uri": "https://localhost:8080/"
        },
        "id": "EGMqatgnp1lV",
        "outputId": "df0abf8b-0ce0-4bc3-b24a-1ebd14f89123"
      },
      "execution_count": null,
      "outputs": [
        {
          "output_type": "execute_result",
          "data": {
            "text/plain": [
              "array([1, 0, 0, 0, 0, 1, 1, 1, 0, 0, 1, 1, 1, 1, 0, 1, 1, 0, 1, 0, 1, 0,\n",
              "       0, 0, 1, 0, 0, 0, 0, 0, 1, 0, 1, 1, 0, 0, 0, 1, 1, 1, 0, 0, 0, 1,\n",
              "       1, 0, 1, 0, 1, 0, 1, 1, 1, 0, 1, 0, 1, 1, 1, 1, 1, 1, 0, 0, 1, 1,\n",
              "       1, 0, 1, 1, 0, 1, 0, 0, 1, 0, 0, 1, 0, 0, 0, 0, 1, 1, 1, 0, 1, 0,\n",
              "       1, 1, 0, 0, 0, 0, 0, 1, 0, 0, 1, 0, 0, 0, 1, 1, 0, 0, 0, 1, 0, 1,\n",
              "       0, 1, 1, 1, 1, 0, 0, 0, 0, 0, 1, 1, 1, 0, 0, 1, 1, 0, 0, 0, 1, 1,\n",
              "       0, 1, 1, 0, 1, 0, 0, 0, 1, 1, 1, 0, 1, 1, 1, 1, 0, 1, 0, 0, 1, 0,\n",
              "       0, 1, 0, 1, 1, 0, 0, 1, 0, 0, 1, 1, 0, 1, 1, 0, 0, 0, 1, 1, 1, 1,\n",
              "       0, 1, 0, 0, 1, 0, 1, 0, 0, 0, 1, 1, 0, 0, 0, 0, 1, 1, 0, 1, 0, 1,\n",
              "       1, 1, 1, 0, 0, 0, 0, 1, 1, 1, 1, 1, 1, 1, 1, 0, 0, 0, 0, 0, 1, 1,\n",
              "       1, 1, 1, 1, 0, 1, 1, 0, 0, 1, 1, 1, 0, 0, 0, 0, 1, 0, 1, 1, 0, 1,\n",
              "       0, 1, 0, 0, 0, 0, 1, 0])"
            ]
          },
          "metadata": {},
          "execution_count": 4
        }
      ]
    },
    {
      "cell_type": "code",
      "source": [
        "y.shape"
      ],
      "metadata": {
        "colab": {
          "base_uri": "https://localhost:8080/"
        },
        "id": "dFiSfzc2p3b1",
        "outputId": "8cf3f716-757d-4a15-f848-6032c60076ee"
      },
      "execution_count": null,
      "outputs": [
        {
          "output_type": "execute_result",
          "data": {
            "text/plain": [
              "(250,)"
            ]
          },
          "metadata": {},
          "execution_count": 5
        }
      ]
    },
    {
      "cell_type": "code",
      "source": [
        "plt.scatter(X[:,0],X[:,1], c=y, s=100)\n",
        "plt.show()"
      ],
      "metadata": {
        "colab": {
          "base_uri": "https://localhost:8080/",
          "height": 430
        },
        "id": "ecz_ahOop_H3",
        "outputId": "f8994610-a3ea-4abb-f973-f62050d38077"
      },
      "execution_count": null,
      "outputs": [
        {
          "output_type": "display_data",
          "data": {
            "text/plain": [
              "<Figure size 640x480 with 1 Axes>"
            ],
            "image/png": "[encoded data removed]"
          },
          "metadata": {}
        }
      ]
    },
    {
      "cell_type": "code",
      "source": [
        "model=Sequential()\n",
        "\n",
        "model.add(Dense(10,activation='relu',input_dim=2,kernel_initializer='he_normal')) #he_normal is a part of weight initialization\n",
        "model.add(Dense(10,activation='relu',kernel_initializer='he_normal'))\n",
        "model.add(Dense(10,activation='relu',kernel_initializer='he_normal'))\n",
        "model.add(Dense(10,activation='relu',kernel_initializer='he_normal'))\n",
        "model.add(Dense(1,activation='sigmoid')) # isme sigmoid h qki hmlog classification data prblm solve kr rhe h"
      ],
      "metadata": {
        "id": "0nvzMR4rqx9G"
      },
      "execution_count": null,
      "outputs": []
    },
    {
      "cell_type": "code",
      "source": [
        "model.compile(loss='binary_crossentropy',optimizer='adam',metrics=['accuracy'])"
      ],
      "metadata": {
        "id": "Se1RjsIVsJ8B"
      },
      "execution_count": null,
      "outputs": []
    },
    {
      "cell_type": "code",
      "source": [
        "model.get_weights()[0]"
      ],
      "metadata": {
        "colab": {
          "base_uri": "https://localhost:8080/"
        },
        "id": "w_yNeTlesb1P",
        "outputId": "15c284f8-e640-449c-bd43-7af2d3656652"
      },
      "execution_count": null,
      "outputs": [
        {
          "output_type": "execute_result",
          "data": {
            "text/plain": [
              "array([[-1.3519409 ,  0.9214583 , -2.2228618 ,  0.5893723 , -0.01723887,\n",
              "        -0.88076085, -0.10025182,  0.00411046,  0.22551103,  0.12035058],\n",
              "       [-0.74627274, -0.08863574, -1.5202479 , -0.45191166,  1.0875747 ,\n",
              "        -0.7774039 , -0.26942647, -1.6649865 ,  0.7343486 , -0.95121586]],\n",
              "      dtype=float32)"
            ]
          },
          "metadata": {},
          "execution_count": 9
        }
      ]
    },
    {
      "cell_type": "code",
      "source": [
        "old_weights = model.get_weights()[0]"
      ],
      "metadata": {
        "id": "jzBGApAjszZF"
      },
      "execution_count": null,
      "outputs": []
    },
    {
      "cell_type": "code",
      "source": [
        "model.summary()"
      ],
      "metadata": {
        "colab": {
          "base_uri": "https://localhost:8080/"
        },
        "id": "GrZ_f2AYsh5O",
        "outputId": "065b0889-5598-4f34-cea3-cd9e830ee7e0"
      },
      "execution_count": null,
      "outputs": [
        {
          "output_type": "stream",
          "name": "stdout",
          "text": [
            "Model: \"sequential\"\n",
            "_________________________________________________________________\n",
            " Layer (type)                Output Shape              Param #   \n",
            "=================================================================\n",
            " dense (Dense)               (None, 10)                30        \n",
            "                                                                 \n",
            " dense_1 (Dense)             (None, 10)                110       \n",
            "                                                                 \n",
            " dense_2 (Dense)             (None, 10)                110       \n",
            "                                                                 \n",
            " dense_3 (Dense)             (None, 10)                110       \n",
            "                                                                 \n",
            " dense_4 (Dense)             (None, 1)                 11        \n",
            "                                                                 \n",
            "=================================================================\n",
            "Total params: 371 (1.45 KB)\n",
            "Trainable params: 371 (1.45 KB)\n",
            "Non-trainable params: 0 (0.00 Byte)\n",
            "_________________________________________________________________\n"
          ]
        }
      ]
    },
    {
      "cell_type": "code",
      "source": [
        "X_train,X_test,y_train,y_test=train_test_split(X,y,test_size=0.20,random_state=42)"
      ],
      "metadata": {
        "id": "UJyFBdLdsms0"
      },
      "execution_count": null,
      "outputs": []
    },
    {
      "cell_type": "code",
      "source": [
        "model.fit(X_train,y_train,epochs=100)"
      ],
      "metadata": {
        "colab": {
          "base_uri": "https://localhost:8080/"
        },
        "id": "1idm5esrtUTy",
        "outputId": "4ce08cc3-de18-4aba-d3aa-45b2609bb145"
      },
      "execution_count": null,
      "outputs": [
        {
          "output_type": "stream",
          "name": "stdout",
          "text": [
            "Epoch 1/100\n",
            "7/7 [==============================] - 7s 5ms/step - loss: 0.8434 - accuracy: 0.2000\n",
            "Epoch 2/100\n",
            "7/7 [==============================] - 0s 5ms/step - loss: 0.7764 - accuracy: 0.3000\n",
            "Epoch 3/100\n",
            "7/7 [==============================] - 0s 4ms/step - loss: 0.7269 - accuracy: 0.3800\n",
            "Epoch 4/100\n",
            "7/7 [==============================] - 0s 4ms/step - loss: 0.6956 - accuracy: 0.3650\n",
            "Epoch 5/100\n",
            "7/7 [==============================] - 0s 5ms/step - loss: 0.6674 - accuracy: 0.3700\n",
            "Epoch 6/100\n",
            "7/7 [==============================] - 0s 6ms/step - loss: 0.6426 - accuracy: 0.3700\n",
            "Epoch 7/100\n",
            "7/7 [==============================] - 0s 7ms/step - loss: 0.6204 - accuracy: 0.4600\n",
            "Epoch 8/100\n",
            "7/7 [==============================] - 0s 5ms/step - loss: 0.6005 - accuracy: 0.5450\n",
            "Epoch 9/100\n",
            "7/7 [==============================] - 0s 4ms/step - loss: 0.5825 - accuracy: 0.5600\n",
            "Epoch 10/100\n",
            "7/7 [==============================] - 0s 6ms/step - loss: 0.5643 - accuracy: 0.6250\n",
            "Epoch 11/100\n",
            "7/7 [==============================] - 0s 4ms/step - loss: 0.5449 - accuracy: 0.7600\n",
            "Epoch 12/100\n",
            "7/7 [==============================] - 0s 4ms/step - loss: 0.5246 - accuracy: 0.8300\n",
            "Epoch 13/100\n",
            "7/7 [==============================] - 0s 4ms/step - loss: 0.5038 - accuracy: 0.8450\n",
            "Epoch 14/100\n",
            "7/7 [==============================] - 0s 4ms/step - loss: 0.4827 - accuracy: 0.8550\n",
            "Epoch 15/100\n",
            "7/7 [==============================] - 0s 4ms/step - loss: 0.4629 - accuracy: 0.8500\n",
            "Epoch 16/100\n",
            "7/7 [==============================] - 0s 7ms/step - loss: 0.4421 - accuracy: 0.8450\n",
            "Epoch 17/100\n",
            "7/7 [==============================] - 0s 5ms/step - loss: 0.4200 - accuracy: 0.8450\n",
            "Epoch 18/100\n",
            "7/7 [==============================] - 0s 4ms/step - loss: 0.3928 - accuracy: 0.8600\n",
            "Epoch 19/100\n",
            "7/7 [==============================] - 0s 4ms/step - loss: 0.3650 - accuracy: 0.8600\n",
            "Epoch 20/100\n",
            "7/7 [==============================] - 0s 5ms/step - loss: 0.3402 - accuracy: 0.8600\n",
            "Epoch 21/100\n",
            "7/7 [==============================] - 0s 4ms/step - loss: 0.3196 - accuracy: 0.8650\n",
            "Epoch 22/100\n",
            "7/7 [==============================] - 0s 4ms/step - loss: 0.3024 - accuracy: 0.8650\n",
            "Epoch 23/100\n",
            "7/7 [==============================] - 0s 4ms/step - loss: 0.2890 - accuracy: 0.8600\n",
            "Epoch 24/100\n",
            "7/7 [==============================] - 0s 4ms/step - loss: 0.2787 - accuracy: 0.8600\n",
            "Epoch 25/100\n",
            "7/7 [==============================] - 0s 4ms/step - loss: 0.2696 - accuracy: 0.8600\n",
            "Epoch 26/100\n",
            "7/7 [==============================] - 0s 4ms/step - loss: 0.2618 - accuracy: 0.8600\n",
            "Epoch 27/100\n",
            "7/7 [==============================] - 0s 5ms/step - loss: 0.2545 - accuracy: 0.8700\n",
            "Epoch 28/100\n",
            "7/7 [==============================] - 0s 6ms/step - loss: 0.2484 - accuracy: 0.8650\n",
            "Epoch 29/100\n",
            "7/7 [==============================] - 0s 6ms/step - loss: 0.2426 - accuracy: 0.8650\n",
            "Epoch 30/100\n",
            "7/7 [==============================] - 0s 5ms/step - loss: 0.2379 - accuracy: 0.8700\n",
            "Epoch 31/100\n",
            "7/7 [==============================] - 0s 4ms/step - loss: 0.2330 - accuracy: 0.8750\n",
            "Epoch 32/100\n",
            "7/7 [==============================] - 0s 6ms/step - loss: 0.2291 - accuracy: 0.8750\n",
            "Epoch 33/100\n",
            "7/7 [==============================] - 0s 4ms/step - loss: 0.2259 - accuracy: 0.8800\n",
            "Epoch 34/100\n",
            "7/7 [==============================] - 0s 5ms/step - loss: 0.2217 - accuracy: 0.8900\n",
            "Epoch 35/100\n",
            "7/7 [==============================] - 0s 5ms/step - loss: 0.2176 - accuracy: 0.8900\n",
            "Epoch 36/100\n",
            "7/7 [==============================] - 0s 5ms/step - loss: 0.2133 - accuracy: 0.8900\n",
            "Epoch 37/100\n",
            "7/7 [==============================] - 0s 7ms/step - loss: 0.2092 - accuracy: 0.8900\n",
            "Epoch 38/100\n",
            "7/7 [==============================] - 0s 7ms/step - loss: 0.2047 - accuracy: 0.8900\n",
            "Epoch 39/100\n",
            "7/7 [==============================] - 0s 5ms/step - loss: 0.2009 - accuracy: 0.8900\n",
            "Epoch 40/100\n",
            "7/7 [==============================] - 0s 6ms/step - loss: 0.1971 - accuracy: 0.9000\n",
            "Epoch 41/100\n",
            "7/7 [==============================] - 0s 8ms/step - loss: 0.1934 - accuracy: 0.9000\n",
            "Epoch 42/100\n",
            "7/7 [==============================] - 0s 7ms/step - loss: 0.1897 - accuracy: 0.9050\n",
            "Epoch 43/100\n",
            "7/7 [==============================] - 0s 6ms/step - loss: 0.1852 - accuracy: 0.9000\n",
            "Epoch 44/100\n",
            "7/7 [==============================] - 0s 6ms/step - loss: 0.1822 - accuracy: 0.9100\n",
            "Epoch 45/100\n",
            "7/7 [==============================] - 0s 6ms/step - loss: 0.1779 - accuracy: 0.9100\n",
            "Epoch 46/100\n",
            "7/7 [==============================] - 0s 6ms/step - loss: 0.1737 - accuracy: 0.9150\n",
            "Epoch 47/100\n",
            "7/7 [==============================] - 0s 6ms/step - loss: 0.1695 - accuracy: 0.9250\n",
            "Epoch 48/100\n",
            "7/7 [==============================] - 0s 6ms/step - loss: 0.1657 - accuracy: 0.9300\n",
            "Epoch 49/100\n",
            "7/7 [==============================] - 0s 6ms/step - loss: 0.1615 - accuracy: 0.9400\n",
            "Epoch 50/100\n",
            "7/7 [==============================] - 0s 6ms/step - loss: 0.1583 - accuracy: 0.9350\n",
            "Epoch 51/100\n",
            "7/7 [==============================] - 0s 6ms/step - loss: 0.1535 - accuracy: 0.9450\n",
            "Epoch 52/100\n",
            "7/7 [==============================] - 0s 6ms/step - loss: 0.1501 - accuracy: 0.9400\n",
            "Epoch 53/100\n",
            "7/7 [==============================] - 0s 6ms/step - loss: 0.1460 - accuracy: 0.9400\n",
            "Epoch 54/100\n",
            "7/7 [==============================] - 0s 6ms/step - loss: 0.1424 - accuracy: 0.9400\n",
            "Epoch 55/100\n",
            "7/7 [==============================] - 0s 6ms/step - loss: 0.1387 - accuracy: 0.9450\n",
            "Epoch 56/100\n",
            "7/7 [==============================] - 0s 6ms/step - loss: 0.1351 - accuracy: 0.9550\n",
            "Epoch 57/100\n",
            "7/7 [==============================] - 0s 6ms/step - loss: 0.1306 - accuracy: 0.9550\n",
            "Epoch 58/100\n",
            "7/7 [==============================] - 0s 6ms/step - loss: 0.1292 - accuracy: 0.9550\n",
            "Epoch 59/100\n",
            "7/7 [==============================] - 0s 6ms/step - loss: 0.1277 - accuracy: 0.9500\n",
            "Epoch 60/100\n",
            "7/7 [==============================] - 0s 6ms/step - loss: 0.1214 - accuracy: 0.9550\n",
            "Epoch 61/100\n",
            "7/7 [==============================] - 0s 6ms/step - loss: 0.1152 - accuracy: 0.9750\n",
            "Epoch 62/100\n",
            "7/7 [==============================] - 0s 7ms/step - loss: 0.1135 - accuracy: 0.9750\n",
            "Epoch 63/100\n",
            "7/7 [==============================] - 0s 7ms/step - loss: 0.1074 - accuracy: 0.9800\n",
            "Epoch 64/100\n",
            "7/7 [==============================] - 0s 6ms/step - loss: 0.1050 - accuracy: 0.9750\n",
            "Epoch 65/100\n",
            "7/7 [==============================] - 0s 6ms/step - loss: 0.1020 - accuracy: 0.9700\n",
            "Epoch 66/100\n",
            "7/7 [==============================] - 0s 6ms/step - loss: 0.0968 - accuracy: 0.9750\n",
            "Epoch 67/100\n",
            "7/7 [==============================] - 0s 7ms/step - loss: 0.0934 - accuracy: 0.9850\n",
            "Epoch 68/100\n",
            "7/7 [==============================] - 0s 6ms/step - loss: 0.0908 - accuracy: 0.9850\n",
            "Epoch 69/100\n",
            "7/7 [==============================] - 0s 7ms/step - loss: 0.0890 - accuracy: 0.9900\n",
            "Epoch 70/100\n",
            "7/7 [==============================] - 0s 7ms/step - loss: 0.0838 - accuracy: 0.9900\n",
            "Epoch 71/100\n",
            "7/7 [==============================] - 0s 6ms/step - loss: 0.0800 - accuracy: 0.9900\n",
            "Epoch 72/100\n",
            "7/7 [==============================] - 0s 6ms/step - loss: 0.0767 - accuracy: 0.9900\n",
            "Epoch 73/100\n",
            "7/7 [==============================] - 0s 6ms/step - loss: 0.0732 - accuracy: 0.9900\n",
            "Epoch 74/100\n",
            "7/7 [==============================] - 0s 6ms/step - loss: 0.0701 - accuracy: 0.9900\n",
            "Epoch 75/100\n",
            "7/7 [==============================] - 0s 5ms/step - loss: 0.0667 - accuracy: 0.9950\n",
            "Epoch 76/100\n",
            "7/7 [==============================] - 0s 5ms/step - loss: 0.0634 - accuracy: 0.9950\n",
            "Epoch 77/100\n",
            "7/7 [==============================] - 0s 6ms/step - loss: 0.0603 - accuracy: 0.9950\n",
            "Epoch 78/100\n",
            "7/7 [==============================] - 0s 6ms/step - loss: 0.0577 - accuracy: 0.9950\n",
            "Epoch 79/100\n",
            "7/7 [==============================] - 0s 6ms/step - loss: 0.0548 - accuracy: 0.9950\n",
            "Epoch 80/100\n",
            "7/7 [==============================] - 0s 7ms/step - loss: 0.0518 - accuracy: 0.9950\n",
            "Epoch 81/100\n",
            "7/7 [==============================] - 0s 7ms/step - loss: 0.0492 - accuracy: 0.9950\n",
            "Epoch 82/100\n",
            "7/7 [==============================] - 0s 6ms/step - loss: 0.0465 - accuracy: 0.9950\n",
            "Epoch 83/100\n",
            "7/7 [==============================] - 0s 6ms/step - loss: 0.0442 - accuracy: 0.9950\n",
            "Epoch 84/100\n",
            "7/7 [==============================] - 0s 6ms/step - loss: 0.0424 - accuracy: 0.9950\n",
            "Epoch 85/100\n",
            "7/7 [==============================] - 0s 7ms/step - loss: 0.0396 - accuracy: 1.0000\n",
            "Epoch 86/100\n",
            "7/7 [==============================] - 0s 7ms/step - loss: 0.0375 - accuracy: 1.0000\n",
            "Epoch 87/100\n",
            "7/7 [==============================] - 0s 6ms/step - loss: 0.0356 - accuracy: 1.0000\n",
            "Epoch 88/100\n",
            "7/7 [==============================] - 0s 7ms/step - loss: 0.0339 - accuracy: 1.0000\n",
            "Epoch 89/100\n",
            "7/7 [==============================] - 0s 6ms/step - loss: 0.0317 - accuracy: 1.0000\n",
            "Epoch 90/100\n",
            "7/7 [==============================] - 0s 6ms/step - loss: 0.0301 - accuracy: 1.0000\n",
            "Epoch 91/100\n",
            "7/7 [==============================] - 0s 6ms/step - loss: 0.0287 - accuracy: 1.0000\n",
            "Epoch 92/100\n",
            "7/7 [==============================] - 0s 6ms/step - loss: 0.0273 - accuracy: 1.0000\n",
            "Epoch 93/100\n",
            "7/7 [==============================] - 0s 6ms/step - loss: 0.0259 - accuracy: 1.0000\n",
            "Epoch 94/100\n",
            "7/7 [==============================] - 0s 4ms/step - loss: 0.0250 - accuracy: 1.0000\n",
            "Epoch 95/100\n",
            "7/7 [==============================] - 0s 4ms/step - loss: 0.0239 - accuracy: 1.0000\n",
            "Epoch 96/100\n",
            "7/7 [==============================] - 0s 4ms/step - loss: 0.0224 - accuracy: 1.0000\n",
            "Epoch 97/100\n",
            "7/7 [==============================] - 0s 4ms/step - loss: 0.0216 - accuracy: 1.0000\n",
            "Epoch 98/100\n",
            "7/7 [==============================] - 0s 4ms/step - loss: 0.0209 - accuracy: 1.0000\n",
            "Epoch 99/100\n",
            "7/7 [==============================] - 0s 4ms/step - loss: 0.0198 - accuracy: 1.0000\n",
            "Epoch 100/100\n",
            "7/7 [==============================] - 0s 4ms/step - loss: 0.0188 - accuracy: 1.0000\n"
          ]
        },
        {
          "output_type": "execute_result",
          "data": {
            "text/plain": [
              "<keras.src.callbacks.History at 0x7d67d0713490>"
            ]
          },
          "metadata": {},
          "execution_count": 13
        }
      ]
    },
    {
      "cell_type": "code",
      "source": [
        "new_weights = model.get_weights()[0]"
      ],
      "metadata": {
        "id": "yDcykSHUtgTV"
      },
      "execution_count": null,
      "outputs": []
    },
    {
      "cell_type": "code",
      "source": [
        "old_weights"
      ],
      "metadata": {
        "colab": {
          "base_uri": "https://localhost:8080/"
        },
        "id": "G9f-YyZRuCHO",
        "outputId": "d6725dac-feb3-4766-97ed-0ec8c8438713"
      },
      "execution_count": null,
      "outputs": [
        {
          "output_type": "execute_result",
          "data": {
            "text/plain": [
              "array([[-1.3519409 ,  0.9214583 , -2.2228618 ,  0.5893723 , -0.01723887,\n",
              "        -0.88076085, -0.10025182,  0.00411046,  0.22551103,  0.12035058],\n",
              "       [-0.74627274, -0.08863574, -1.5202479 , -0.45191166,  1.0875747 ,\n",
              "        -0.7774039 , -0.26942647, -1.6649865 ,  0.7343486 , -0.95121586]],\n",
              "      dtype=float32)"
            ]
          },
          "metadata": {},
          "execution_count": 15
        }
      ]
    },
    {
      "cell_type": "code",
      "source": [
        "new_weights"
      ],
      "metadata": {
        "colab": {
          "base_uri": "https://localhost:8080/"
        },
        "id": "qqqIpinWuJkf",
        "outputId": "c456b0d7-0871-430d-f16f-e328992a6d36"
      },
      "execution_count": null,
      "outputs": [
        {
          "output_type": "execute_result",
          "data": {
            "text/plain": [
              "array([[-1.5563828 ,  1.2482342 , -2.157792  ,  0.48886395, -0.01726542,\n",
              "        -1.1706406 , -0.19240293, -0.18723416,  0.31069273,  0.11658935],\n",
              "       [-0.5192394 , -0.05367729, -1.6094    , -0.36194322,  1.2227471 ,\n",
              "        -0.39001167, -0.68550533, -1.4069412 ,  0.8012331 , -1.0633205 ]],\n",
              "      dtype=float32)"
            ]
          },
          "metadata": {},
          "execution_count": 16
        }
      ]
    },
    {
      "cell_type": "code",
      "source": [
        "percentage_change= abs(100*(old_weights-new_weights)/old_weights)"
      ],
      "metadata": {
        "id": "VUWLmqxRuMav"
      },
      "execution_count": null,
      "outputs": []
    },
    {
      "cell_type": "code",
      "source": [
        "percentage_change"
      ],
      "metadata": {
        "colab": {
          "base_uri": "https://localhost:8080/"
        },
        "id": "pv7dfjqtuowv",
        "outputId": "21c1defa-bdc9-4e59-b430-5c3fc67ba643"
      },
      "execution_count": null,
      "outputs": [
        {
          "output_type": "execute_result",
          "data": {
            "text/plain": [
              "array([[1.51221046e+01, 3.54629021e+01, 2.92729282e+00, 1.70534534e+01,\n",
              "        1.54024079e-01, 3.29124222e+01, 9.19196472e+01, 4.65506152e+03,\n",
              "        3.77727394e+01, 3.12523556e+00],\n",
              "       [3.04222965e+01, 3.94405785e+01, 5.86431313e+00, 1.99084129e+01,\n",
              "        1.24287891e+01, 4.98315277e+01, 1.54431335e+02, 1.54983425e+01,\n",
              "        9.10800648e+00, 1.17854061e+01]], dtype=float32)"
            ]
          },
          "metadata": {},
          "execution_count": 18
        }
      ]
    },
    {
      "cell_type": "code",
      "source": [
        "from mlxtend.plotting import plot_decision_regions\n",
        "\n",
        "plot_decision_regions(X_train,y_train.astype('int'),clf=model,legend=2)"
      ],
      "metadata": {
        "colab": {
          "base_uri": "https://localhost:8080/",
          "height": 466
        },
        "id": "hb49A3bqurkf",
        "outputId": "83bb3857-eb95-469d-9af1-23e4071a171c"
      },
      "execution_count": null,
      "outputs": [
        {
          "output_type": "stream",
          "name": "stdout",
          "text": [
            "9600/9600 [==============================] - 16s 2ms/step\n"
          ]
        },
        {
          "output_type": "execute_result",
          "data": {
            "text/plain": [
              "<Axes: >"
            ]
          },
          "metadata": {},
          "execution_count": 19
        },
        {
          "output_type": "display_data",
          "data": {
            "text/plain": [
              "<Figure size 640x480 with 1 Axes>"
            ],
            "image/png": "[encoded data removed]"
          },
          "metadata": {}
        }
      ]
    },
    {
      "cell_type": "code",
      "source": [],
      "metadata": {
        "id": "4JfLmr-yv4Sa"
      },
      "execution_count": null,
      "outputs": []
    }
  ]
}